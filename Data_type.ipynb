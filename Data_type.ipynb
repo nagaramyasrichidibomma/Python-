{
  "nbformat": 4,
  "nbformat_minor": 0,
  "metadata": {
    "colab": {
      "provenance": [],
      "authorship_tag": "ABX9TyNaF7tChssONESk+IHqIoAY",
      "include_colab_link": true
    },
    "kernelspec": {
      "name": "python3",
      "display_name": "Python 3"
    },
    "language_info": {
      "name": "python"
    }
  },
  "cells": [
    {
      "cell_type": "markdown",
      "metadata": {
        "id": "view-in-github",
        "colab_type": "text"
      },
      "source": [
        "<a href=\"https://colab.research.google.com/github/nagaramyasrichidibomma/Python-/blob/main/Data_type.ipynb\" target=\"_parent\"><img src=\"https://colab.research.google.com/assets/colab-badge.svg\" alt=\"Open In Colab\"/></a>"
      ]
    },
    {
      "cell_type": "code",
      "execution_count": 1,
      "metadata": {
        "colab": {
          "base_uri": "https://localhost:8080/"
        },
        "id": "N6fJFiZKu88d",
        "outputId": "d128eadd-00a1-43d5-8b5d-fa52c6b1d6f3"
      },
      "outputs": [
        {
          "output_type": "stream",
          "name": "stdout",
          "text": [
            "['apple', 'banana', 'mango', 6, 7.0]\n",
            "<class 'list'>\n"
          ]
        }
      ],
      "source": [
        "X=[\"apple\",\"banana\",\"mango\",6,7.0]\n",
        "print(X)\n",
        "print(type(X))"
      ]
    },
    {
      "cell_type": "code",
      "source": [
        "X=(\"apple\",\"cherry\",\"mango\",7,7,8.6, True)\n",
        "print(X.count(7))\n",
        "print(X.index(\"mango\"))\n",
        "print(type(X))"
      ],
      "metadata": {
        "colab": {
          "base_uri": "https://localhost:8080/"
        },
        "id": "s0QhneJuvUG6",
        "outputId": "e58e4b9b-56da-462f-9a4b-527c824f29ca"
      },
      "execution_count": 5,
      "outputs": [
        {
          "output_type": "stream",
          "name": "stdout",
          "text": [
            "2\n",
            "2\n",
            "<class 'tuple'>\n"
          ]
        }
      ]
    },
    {
      "cell_type": "code",
      "source": [
        "X=(1,3,5,4,6,7,)\n",
        "print(min(X))\n",
        "print(max(X))\n",
        "print(type(X))"
      ],
      "metadata": {
        "colab": {
          "base_uri": "https://localhost:8080/"
        },
        "id": "IkC9o1bswJBu",
        "outputId": "2aeb91f3-c005-4baa-b0ba-79e495a2d7b4"
      },
      "execution_count": 9,
      "outputs": [
        {
          "output_type": "stream",
          "name": "stdout",
          "text": [
            "1\n",
            "7\n",
            "<class 'tuple'>\n"
          ]
        }
      ]
    },
    {
      "cell_type": "code",
      "source": [
        "X={\"name\":\"sana\",\"age\":6,}\n",
        "print(X.keys())\n",
        "print(X.values())\n",
        "print(X.items())\n",
        "print(X.pop(\"name\"))\n",
        "print(X.update({\"course\":\"python\"}))\n",
        "print(X)\n",
        "print(type(X))"
      ],
      "metadata": {
        "colab": {
          "base_uri": "https://localhost:8080/"
        },
        "id": "GZ5E0zV6wrZs",
        "outputId": "7f638c4a-80de-4916-dd8b-f324eec35b65"
      },
      "execution_count": 12,
      "outputs": [
        {
          "output_type": "stream",
          "name": "stdout",
          "text": [
            "dict_keys(['name', 'age'])\n",
            "dict_values(['sana', 6])\n",
            "dict_items([('name', 'sana'), ('age', 6)])\n",
            "sana\n",
            "None\n",
            "{'age': 6, 'course': 'python'}\n",
            "<class 'dict'>\n"
          ]
        }
      ]
    },
    {
      "cell_type": "code",
      "source": [
        "X={\"apple\",\"manga\",\"papaya\"}\n",
        "print(X)\n",
        "print(type(X))"
      ],
      "metadata": {
        "colab": {
          "base_uri": "https://localhost:8080/"
        },
        "id": "TMdT9DbHxo8w",
        "outputId": "40ee14d3-0235-4029-ece7-6b448742c07f"
      },
      "execution_count": 13,
      "outputs": [
        {
          "output_type": "stream",
          "name": "stdout",
          "text": [
            "{'apple', 'papaya', 'manga'}\n",
            "<class 'set'>\n"
          ]
        }
      ]
    }
  ]
}